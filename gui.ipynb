{
 "cells": [
  {
   "cell_type": "code",
   "execution_count": null,
   "metadata": {
    "execution": {
     "iopub.execute_input": "2025-06-09T03:18:19.835375Z",
     "iopub.status.busy": "2025-06-09T03:18:19.835170Z",
     "iopub.status.idle": "2025-06-09T03:19:52.814010Z",
     "shell.execute_reply": "2025-06-09T03:19:52.813248Z",
     "shell.execute_reply.started": "2025-06-09T03:18:19.835358Z"
    },
    "trusted": true
   },
   "outputs": [],
   "source": [
    "!pip install -qU datasets fsspec transformers evaluate peft gradio"
   ]
  },
  {
   "cell_type": "code",
   "execution_count": null,
   "metadata": {
    "_cell_guid": "b1076dfc-b9ad-4769-8c92-a6c4dae69d19",
    "_uuid": "8f2839f25d086af736a60e9eeb907d3b93b6e0e5",
    "execution": {
     "iopub.execute_input": "2025-06-09T03:19:52.815458Z",
     "iopub.status.busy": "2025-06-09T03:19:52.815140Z",
     "iopub.status.idle": "2025-06-09T03:20:06.545909Z",
     "shell.execute_reply": "2025-06-09T03:20:06.545357Z",
     "shell.execute_reply.started": "2025-06-09T03:19:52.815430Z"
    },
    "trusted": true
   },
   "outputs": [],
   "source": [
    "import gradio as gr\n",
    "import torch\n",
    "from transformers import AutoTokenizer, AutoModelForQuestionAnswering"
   ]
  },
  {
   "cell_type": "code",
   "execution_count": null,
   "metadata": {
    "execution": {
     "iopub.execute_input": "2025-06-09T03:20:06.547655Z",
     "iopub.status.busy": "2025-06-09T03:20:06.547208Z",
     "iopub.status.idle": "2025-06-09T03:20:32.247674Z",
     "shell.execute_reply": "2025-06-09T03:20:32.246604Z",
     "shell.execute_reply.started": "2025-06-09T03:20:06.547637Z"
    },
    "trusted": true
   },
   "outputs": [],
   "source": [
    "# MODEL_NAME = \"FacebookAI/roberta-base\"\n",
    "# \"google/electra-base-discriminator\", \"FacebookAI/roberta-base\", \"SpanBERT/spanbert-base-cased\"\n",
    "\n",
    "spanbert = AutoModelForQuestionAnswering.from_pretrained(\"/kaggle/input/spanbert_full/transformers/default/1\")\n",
    "roberta = AutoModelForQuestionAnswering.from_pretrained(\"/kaggle/input/roberta_full/transformers/default/1\")\n",
    "electra = AutoModelForQuestionAnswering.from_pretrained(\"/kaggle/input/electra_full/transformers/default/1\")\n",
    "\n",
    "spanbert_lora = AutoModelForQuestionAnswering.from_pretrained(\"/kaggle/input/spanbert_lora/transformers/default/1\")\n",
    "roberta_lora = AutoModelForQuestionAnswering.from_pretrained(\"/kaggle/input/roberta-lora/transformers/default/1\")\n",
    "electra_lora = AutoModelForQuestionAnswering.from_pretrained(\"/kaggle/input/electra-lora/transformers/default/1\")\n",
    "\n",
    "spanbert_tok = AutoTokenizer.from_pretrained(\"/kaggle/input/spanbert_full/transformers/default/1\")\n",
    "roberta_tok = AutoTokenizer.from_pretrained(\"/kaggle/input/roberta_full/transformers/default/1\")\n",
    "electra_tok = AutoTokenizer.from_pretrained(\"/kaggle/input/electra_full/transformers/default/1\")\n",
    "\n",
    "spanbert_tok_lora = AutoTokenizer.from_pretrained(\"/kaggle/input/spanbert_lora/transformers/default/1\")\n",
    "roberta_tok_lora = AutoTokenizer.from_pretrained(\"/kaggle/input/roberta-lora/transformers/default/1\")\n",
    "electra_tok_lora = AutoTokenizer.from_pretrained(\"/kaggle/input/electra-lora/transformers/default/1\")\n"
   ]
  },
  {
   "cell_type": "code",
   "execution_count": null,
   "metadata": {
    "execution": {
     "iopub.execute_input": "2025-06-09T03:20:32.249526Z",
     "iopub.status.busy": "2025-06-09T03:20:32.248705Z",
     "iopub.status.idle": "2025-06-09T03:20:32.257034Z",
     "shell.execute_reply": "2025-06-09T03:20:32.256241Z",
     "shell.execute_reply.started": "2025-06-09T03:20:32.249496Z"
    },
    "trusted": true
   },
   "outputs": [],
   "source": [
    "def answer_question(context, question, model_name, is_lora=\"No\"):\n",
    "    model_list = {\n",
    "        \"SpanBERT\": spanbert,\n",
    "        \"RoBERTa\": roberta, \n",
    "        \"ELECTRA\": electra,\n",
    "        \"SpanBERT_lora\": spanbert_lora,\n",
    "        \"RoBERTa_lora\": roberta_lora, \n",
    "        \"ELECTRA_lora\": electra_lora\n",
    "    }\n",
    "\n",
    "    tokenizer_list = {\n",
    "        \"SpanBERT\": spanbert_tok,\n",
    "        \"RoBERTa\": roberta_tok, \n",
    "        \"ELECTRA\": electra_tok,\n",
    "        \"SpanBERT_lora\": spanbert_tok_lora,\n",
    "        \"RoBERTa_lora\": roberta_tok_lora, \n",
    "        \"ELECTRA_lora\": electra_tok_lora\n",
    "    }\n",
    "\n",
    "    if is_lora == \"Yes\":\n",
    "        model_name += \"_lora\"\n",
    "\n",
    "    model = model_list[model_name]\n",
    "    model.eval()\n",
    "    tokenizer = tokenizer_list[model_name]\n",
    "    \n",
    "    inputs = tokenizer(question, context, return_tensors=\"pt\")\n",
    "    with torch.no_grad():\n",
    "        outputs = model(**inputs)\n",
    "\n",
    "    answer_start_index = outputs.start_logits.argmax()\n",
    "    answer_end_index = outputs.end_logits.argmax()\n",
    "\n",
    "    predict_answer_tokens = inputs.input_ids[0, answer_start_index : answer_end_index + 1]\n",
    "    return(tokenizer.decode(predict_answer_tokens))"
   ]
  },
  {
   "cell_type": "code",
   "execution_count": null,
   "metadata": {
    "execution": {
     "iopub.execute_input": "2025-06-09T03:20:32.258596Z",
     "iopub.status.busy": "2025-06-09T03:20:32.258251Z",
     "iopub.status.idle": "2025-06-09T03:20:36.112657Z",
     "shell.execute_reply": "2025-06-09T03:20:36.112109Z",
     "shell.execute_reply.started": "2025-06-09T03:20:32.258570Z"
    },
    "trusted": true
   },
   "outputs": [],
   "source": [
    "iface = gr.Interface(\n",
    "    fn=answer_question,\n",
    "    inputs=[\n",
    "        gr.Textbox(lines=5, label=\"Context\"),\n",
    "        gr.Textbox(lines=1, label=\"Question\"),\n",
    "        gr.Dropdown(choices=[\"SpanBERT\", \"RoBERTa\", \"ELECTRA\"], label=\"Choose Model:\"),\n",
    "        gr.Dropdown(choices=[\"No\", \"Yes\"], label=\"LoRA model:\")\n",
    "    ],\n",
    "    outputs=\"text\",\n",
    "    title=\"Question Answering Demo\",\n",
    "    description=\"Enter a context paragraph and a question. The model will return the extracted answer.\",\n",
    "    theme=None\n",
    ")\n",
    "\n",
    "iface.launch()"
   ]
  }
 ],
 "metadata": {
  "kaggle": {
   "accelerator": "gpu",
   "dataSources": [
    {
     "isSourceIdPinned": true,
     "modelId": 371115,
     "modelInstanceId": 349861,
     "sourceId": 429219,
     "sourceType": "modelInstanceVersion"
    },
    {
     "isSourceIdPinned": true,
     "modelId": 371118,
     "modelInstanceId": 349864,
     "sourceId": 429222,
     "sourceType": "modelInstanceVersion"
    },
    {
     "isSourceIdPinned": true,
     "modelId": 371119,
     "modelInstanceId": 349865,
     "sourceId": 429223,
     "sourceType": "modelInstanceVersion"
    },
    {
     "isSourceIdPinned": true,
     "modelId": 371138,
     "modelInstanceId": 349885,
     "sourceId": 429245,
     "sourceType": "modelInstanceVersion"
    },
    {
     "isSourceIdPinned": true,
     "modelId": 371132,
     "modelInstanceId": 349878,
     "sourceId": 429238,
     "sourceType": "modelInstanceVersion"
    },
    {
     "isSourceIdPinned": true,
     "modelId": 371126,
     "modelInstanceId": 349872,
     "sourceId": 429232,
     "sourceType": "modelInstanceVersion"
    }
   ],
   "dockerImageVersionId": 31041,
   "isGpuEnabled": true,
   "isInternetEnabled": true,
   "language": "python",
   "sourceType": "notebook"
  },
  "kernelspec": {
   "display_name": "Python 3",
   "language": "python",
   "name": "python3"
  },
  "language_info": {
   "codemirror_mode": {
    "name": "ipython",
    "version": 3
   },
   "file_extension": ".py",
   "mimetype": "text/x-python",
   "name": "python",
   "nbconvert_exporter": "python",
   "pygments_lexer": "ipython3",
   "version": "3.11.11"
  }
 },
 "nbformat": 4,
 "nbformat_minor": 4
}
